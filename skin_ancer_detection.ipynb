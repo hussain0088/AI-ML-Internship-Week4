{
  "metadata": {
    "kernelspec": {
      "language": "python",
      "display_name": "Python 3",
      "name": "python3"
    },
    "language_info": {
      "name": "python",
      "version": "3.10.14",
      "mimetype": "text/x-python",
      "codemirror_mode": {
        "name": "ipython",
        "version": 3
      },
      "pygments_lexer": "ipython3",
      "nbconvert_exporter": "python",
      "file_extension": ".py"
    },
    "kaggle": {
      "accelerator": "gpu",
      "dataSources": [
        {
          "sourceId": 10218715,
          "sourceType": "datasetVersion",
          "datasetId": 6316788
        }
      ],
      "dockerImageVersionId": 30805,
      "isInternetEnabled": true,
      "language": "python",
      "sourceType": "notebook",
      "isGpuEnabled": true
    },
    "colab": {
      "name": "skin_ancer_detection.ipynb",
      "provenance": []
    }
  },
  "nbformat_minor": 0,
  "nbformat": 4,
  "cells": [
    {
      "source": [
        "# IMPORTANT: SOME KAGGLE DATA SOURCES ARE PRIVATE\n",
        "# RUN THIS CELL IN ORDER TO IMPORT YOUR KAGGLE DATA SOURCES.\n",
        "import kagglehub\n",
        "kagglehub.login()\n"
      ],
      "metadata": {
        "id": "KwcoPTWdqW7y"
      },
      "cell_type": "code",
      "outputs": [],
      "execution_count": null
    },
    {
      "source": [
        "# IMPORTANT: RUN THIS CELL IN ORDER TO IMPORT YOUR KAGGLE DATA SOURCES,\n",
        "# THEN FEEL FREE TO DELETE THIS CELL.\n",
        "# NOTE: THIS NOTEBOOK ENVIRONMENT DIFFERS FROM KAGGLE'S PYTHON\n",
        "# ENVIRONMENT SO THERE MAY BE MISSING LIBRARIES USED BY YOUR\n",
        "# NOTEBOOK.\n",
        "\n",
        "hafiz411_skin_cancer_dataset_path = kagglehub.dataset_download('hafiz411/skin-cancer-dataset')\n",
        "\n",
        "print('Data source import complete.')\n"
      ],
      "metadata": {
        "id": "3rpMlcBJqW72"
      },
      "cell_type": "code",
      "outputs": [],
      "execution_count": null
    },
    {
      "cell_type": "code",
      "source": [],
      "metadata": {
        "trusted": true,
        "id": "-8acqH78qW73"
      },
      "outputs": [],
      "execution_count": null
    },
    {
      "cell_type": "code",
      "source": [
        "import os\n",
        "import itertools\n",
        "\n",
        "import cv2\n",
        "import numpy as np\n",
        "import pandas as pd\n",
        "import matplotlib.pyplot as plt\n",
        "import seaborn as sns\n",
        "sns.set_style('darkgrid')\n",
        "from sklearn.model_selection import train_test_split\n",
        "from sklearn.metrics import confusion_matrix , classification_report\n",
        "\n",
        "import tensorflow as tf\n",
        "# Disable XLA globally\n",
        "tf.config.optimizer.set_jit(False)\n",
        "from tensorflow import keras\n",
        "from tensorflow.keras.models import Sequential\n",
        "from tensorflow.keras.layers import Conv2D, MaxPooling2D , Flatten , Dense, Activation , Dropout ,BatchNormalization\n",
        "from tensorflow.keras.optimizers import Adam , Adamax\n",
        "from tensorflow.keras.preprocessing.image import ImageDataGenerator\n",
        "from tensorflow.keras import regularizers\n",
        "from PIL import Image\n",
        "import warnings\n",
        "warnings.filterwarnings(\"ignore\")"
      ],
      "metadata": {
        "trusted": true,
        "execution": {
          "iopub.status.busy": "2024-12-17T04:26:42.854037Z",
          "iopub.execute_input": "2024-12-17T04:26:42.854385Z",
          "iopub.status.idle": "2024-12-17T04:26:56.090054Z",
          "shell.execute_reply.started": "2024-12-17T04:26:42.854353Z",
          "shell.execute_reply": "2024-12-17T04:26:56.089297Z"
        },
        "id": "jmx5_5RVqW74"
      },
      "outputs": [],
      "execution_count": null
    },
    {
      "cell_type": "markdown",
      "source": [
        "****Read Data****\n",
        "\n",
        " The directory structure of the skin cancer dataset, where each subfolder corresponds to a different class (e.g., benign, malignant). It collects the file paths of the images and their corresponding labels based on the folder names. These are stored in two pandas Series (Fseries for file paths and Lseries for labels) and then combined into a DataFrame (train_df). T"
      ],
      "metadata": {
        "id": "80pg1cB7qW74"
      }
    },
    {
      "cell_type": "code",
      "source": [
        "train_dir = \"/kaggle/input/skin-cancer-dataset/train\"\n",
        "\n",
        "filepaths = []\n",
        "labels = []\n",
        "\n",
        "folds = os.listdir(train_dir)\n",
        "\n",
        "for fold in folds:\n",
        "    foldpaths = os.path.join(train_dir, fold)\n",
        "    filelists = os.listdir(foldpaths)\n",
        "\n",
        "    for file in filelists:\n",
        "        filepath= os.path.join(foldpaths, file)\n",
        "\n",
        "        filepaths.append(filepath)\n",
        "        labels.append(fold)\n",
        "\n",
        "Fseries = pd.Series(filepaths, name= 'Filepath')\n",
        "Lseries = pd.Series(labels, name='Label')\n",
        "\n",
        "train_df = pd.concat([Fseries, Lseries], axis=1)\n",
        "train_df.head()"
      ],
      "metadata": {
        "trusted": true,
        "execution": {
          "iopub.status.busy": "2024-12-17T04:26:56.091894Z",
          "iopub.execute_input": "2024-12-17T04:26:56.092554Z",
          "iopub.status.idle": "2024-12-17T04:26:56.237598Z",
          "shell.execute_reply.started": "2024-12-17T04:26:56.092514Z",
          "shell.execute_reply": "2024-12-17T04:26:56.23679Z"
        },
        "id": "Gf7JKxYVqW77"
      },
      "outputs": [],
      "execution_count": null
    },
    {
      "cell_type": "code",
      "source": [
        "test_dir = \"/kaggle/input/skin-cancer-dataset/test\"\n",
        "\n",
        "filepaths = []\n",
        "labels = []\n",
        "\n",
        "folds = os.listdir(test_dir)\n",
        "\n",
        "for fold in folds:\n",
        "    foldpaths = os.path.join(test_dir, fold)\n",
        "    filelists = os.listdir(foldpaths)\n",
        "\n",
        "    for file in filelists:\n",
        "        filepath= os.path.join(foldpaths, file)\n",
        "\n",
        "        filepaths.append(filepath)\n",
        "        labels.append(fold)\n",
        "\n",
        "Fseries = pd.Series(filepaths, name= 'Filepath')\n",
        "Lseries = pd.Series(labels, name='Label')\n",
        "\n",
        "dummy_df = pd.concat([Fseries, Lseries], axis=1)\n",
        "dummy_df.head()"
      ],
      "metadata": {
        "trusted": true,
        "execution": {
          "iopub.status.busy": "2024-12-17T04:26:56.238675Z",
          "iopub.execute_input": "2024-12-17T04:26:56.239009Z",
          "iopub.status.idle": "2024-12-17T04:26:56.278594Z",
          "shell.execute_reply.started": "2024-12-17T04:26:56.238981Z",
          "shell.execute_reply": "2024-12-17T04:26:56.277849Z"
        },
        "id": "XguGmIxqqW78"
      },
      "outputs": [],
      "execution_count": null
    },
    {
      "cell_type": "markdown",
      "source": [
        "****Split Dataset to Train,Valid,Test****"
      ],
      "metadata": {
        "id": "L7d2dBZkqW79"
      }
    },
    {
      "cell_type": "code",
      "source": [
        "valid_df, test_df = train_test_split(dummy_df, test_size=0.5, shuffle= True, random_state= 42,\n",
        "                                    stratify= dummy_df['Label'])"
      ],
      "metadata": {
        "trusted": true,
        "execution": {
          "iopub.status.busy": "2024-12-17T04:26:56.279588Z",
          "iopub.execute_input": "2024-12-17T04:26:56.279858Z",
          "iopub.status.idle": "2024-12-17T04:26:56.29072Z",
          "shell.execute_reply.started": "2024-12-17T04:26:56.279832Z",
          "shell.execute_reply": "2024-12-17T04:26:56.289877Z"
        },
        "id": "nTB6BMGIqW7-"
      },
      "outputs": [],
      "execution_count": null
    },
    {
      "cell_type": "markdown",
      "source": [
        "****Create image data generator****\n",
        "\n",
        "ImageDataGenerator to create data pipelines for training, validation, and testing datasets. It reads image file paths and labels from the provided DataFrames (train_df, valid_df, test_df) and preprocesses the images by resizing them to 224x224 pixels and batching them in groups of 10. The images are loaded in RGB format, and the labels are one-hot encoded for a categorical classification task."
      ],
      "metadata": {
        "id": "9X_QfGhzqW7_"
      }
    },
    {
      "cell_type": "code",
      "source": [
        "batch_size = 10\n",
        "image_size = (224,224)\n",
        "\n",
        "gen = ImageDataGenerator()\n",
        "\n",
        "train_gen = gen.flow_from_dataframe(train_df, x_col=\"Filepath\", y_col=\"Label\",\n",
        "                                   class_mode =\"categorical\", color=\"rgb\",\n",
        "                                   batch_size= batch_size, target_size = image_size)\n",
        "\n",
        "valid_gen = gen.flow_from_dataframe(valid_df, x_col=\"Filepath\", y_col=\"Label\",\n",
        "                                   class_mode =\"categorical\", color=\"rgb\",\n",
        "                                   batch_size= batch_size, target_size = image_size)\n",
        "\n",
        "test_gen = gen.flow_from_dataframe(test_df, x_col=\"Filepath\", y_col=\"Label\",\n",
        "                                   class_mode =\"categorical\", color=\"rgb\",\n",
        "                                   batch_size= batch_size, target_size = image_size)"
      ],
      "metadata": {
        "trusted": true,
        "execution": {
          "iopub.status.busy": "2024-12-17T04:26:56.293559Z",
          "iopub.execute_input": "2024-12-17T04:26:56.293829Z",
          "iopub.status.idle": "2024-12-17T04:27:12.631812Z",
          "shell.execute_reply.started": "2024-12-17T04:26:56.293778Z",
          "shell.execute_reply": "2024-12-17T04:27:12.630965Z"
        },
        "id": "oYyKCpI_qW7_"
      },
      "outputs": [],
      "execution_count": null
    },
    {
      "cell_type": "markdown",
      "source": [
        "****Show sample from data****\n",
        "\n",
        " A batch of 9 images from the training dataset, along with their corresponding class labels. It scales the images to the range (0-255) for display, retrieves the predicted class index using argmax, and maps it to the class name using the generator's class indices. Each image is displayed with its class label in blue color, arranged in a 3x3 grid for clear visualization. This helps verify data loading and the correctness of labels"
      ],
      "metadata": {
        "id": "ISXXDbIWqW8A"
      }
    },
    {
      "cell_type": "code",
      "source": [
        "gen_dict = train_gen.class_indices\n",
        "classes_name = list(gen_dict.keys())\n",
        "\n",
        "images, labels = next(train_gen)\n",
        "\n",
        "\n",
        "plt.figure(figsize= (16, 16))\n",
        "\n",
        "for i in range(9):\n",
        "    plt.subplot(3, 3, i + 1)\n",
        "    image = images[i] / 255       # scales data to range (0 - 255)\n",
        "    plt.imshow(image)\n",
        "    index = np.argmax(labels[i])  # get image index\n",
        "    class_name = classes_name[index]   # get class of image\n",
        "    plt.title(class_name, color= 'blue', fontsize= 16)\n",
        "    plt.axis('off')\n",
        "plt.tight_layout()\n",
        "plt.show()"
      ],
      "metadata": {
        "trusted": true,
        "execution": {
          "iopub.status.busy": "2024-12-17T04:27:12.632931Z",
          "iopub.execute_input": "2024-12-17T04:27:12.633201Z",
          "iopub.status.idle": "2024-12-17T04:27:15.611757Z",
          "shell.execute_reply.started": "2024-12-17T04:27:12.633173Z",
          "shell.execute_reply": "2024-12-17T04:27:15.610748Z"
        },
        "id": "Tkkk5Y7KqW8A"
      },
      "outputs": [],
      "execution_count": null
    },
    {
      "cell_type": "markdown",
      "source": [
        "****CNN Model Structure****\n",
        "\n",
        "Convolutional Neural Network (CNN) architecture for a multi-class image classification task. It consists of five convolutional blocks with Conv2D layers (32 to 512 filters), BatchNormalization, MaxPooling2D, and Dropout layers to reduce overfitting and improve generalization. The network flattens the output and uses fully connected Dense layers with dropout for further learning before the final softmax activation predicts class probabilities. The model is designed to handle input images of size 224x224x3 and outputs predictions for the number of classes derived from the dataset."
      ],
      "metadata": {
        "id": "I8DWrJIfqW8A"
      }
    },
    {
      "cell_type": "code",
      "source": [
        "channels = 3\n",
        "image_size = (224,224)\n",
        "image_shape =(image_size[0], image_size[1], channels)\n",
        "\n",
        "class_count = len(list(train_gen.class_indices.keys()))\n",
        "\n",
        "model = Sequential([\n",
        "    Conv2D(filters= 32, kernel_size = (3,3), padding='same', activation = 'relu', input_shape = image_shape),\n",
        "    BatchNormalization(),\n",
        "    MaxPooling2D((2, 2)),\n",
        "\n",
        "    Conv2D(filters= 64, kernel_size = (3,3), padding='same', activation = 'relu'),\n",
        "    Conv2D(filters= 64, kernel_size = (3,3), padding='same', activation = 'relu'),\n",
        "    BatchNormalization(),\n",
        "    MaxPooling2D((2, 2)),\n",
        "\n",
        "    Conv2D(filters = 128 , kernel_size = (3,3) , padding='same', activation='relu'),\n",
        "    Conv2D(filters = 128 , kernel_size = (3,3) , padding='same', activation='relu'),\n",
        "    Conv2D(filters = 128 , kernel_size = (3,3) , padding='same', activation='relu'),\n",
        "    Dropout(rate=0.2),\n",
        "    BatchNormalization(),\n",
        "    MaxPooling2D((2, 2)),\n",
        "\n",
        "    Conv2D(filters = 256 , kernel_size = (3,3) , padding='same', activation='relu'),\n",
        "    Conv2D(filters = 256 , kernel_size = (3,3) , padding='same', activation='relu'),\n",
        "    Conv2D(filters = 256 , kernel_size = (3,3) , padding='same', activation='relu'),\n",
        "    Dropout(rate=0.2),\n",
        "    BatchNormalization(),\n",
        "    MaxPooling2D((2, 2)),\n",
        "\n",
        "    Conv2D(filters = 512 , kernel_size = (3,3) , padding='same', activation='relu'),\n",
        "    Conv2D(filters = 512 , kernel_size = (3,3) , padding='same', activation='relu'),\n",
        "    Conv2D(filters = 512 , kernel_size = (3,3) , padding='same', activation='relu'),\n",
        "    Dropout(rate=0.3),\n",
        "    MaxPooling2D((2, 2)),\n",
        "\n",
        "    Flatten(),\n",
        "    BatchNormalization(),\n",
        "\n",
        "    Dense(512, activation=\"relu\"),\n",
        "    Dropout(rate=0.3),\n",
        "    Dense(256, activation=\"relu\"),\n",
        "    Dropout(rate=0.3),\n",
        "    Dense(128, activation=\"relu\"),\n",
        "    Dropout(rate=0.45),\n",
        "    Dense(class_count, activation=\"softmax\")\n",
        "])"
      ],
      "metadata": {
        "trusted": true,
        "execution": {
          "iopub.status.busy": "2024-12-17T04:27:15.613753Z",
          "iopub.execute_input": "2024-12-17T04:27:15.614155Z",
          "iopub.status.idle": "2024-12-17T04:27:16.510727Z",
          "shell.execute_reply.started": "2024-12-17T04:27:15.614124Z",
          "shell.execute_reply": "2024-12-17T04:27:16.510046Z"
        },
        "id": "vxgdziXsqW8B"
      },
      "outputs": [],
      "execution_count": null
    },
    {
      "cell_type": "code",
      "source": [
        "model.compile(optimizer=Adamax(learning_rate=0.001), loss='categorical_crossentropy', metrics=['accuracy'])\n",
        "model.summary()"
      ],
      "metadata": {
        "trusted": true,
        "execution": {
          "iopub.status.busy": "2024-12-17T04:27:16.511636Z",
          "iopub.execute_input": "2024-12-17T04:27:16.511907Z",
          "iopub.status.idle": "2024-12-17T04:27:16.554642Z",
          "shell.execute_reply.started": "2024-12-17T04:27:16.511881Z",
          "shell.execute_reply": "2024-12-17T04:27:16.553853Z"
        },
        "id": "xnZeeU95qW8B"
      },
      "outputs": [],
      "execution_count": null
    },
    {
      "cell_type": "markdown",
      "source": [
        "****Train Model****"
      ],
      "metadata": {
        "id": "eSQUVzD9qW8B"
      }
    },
    {
      "cell_type": "code",
      "source": [
        "history = model.fit(train_gen, epochs= 25, verbose= 1,\n",
        "                    validation_data = valid_gen, shuffle= False)"
      ],
      "metadata": {
        "trusted": true,
        "execution": {
          "iopub.status.busy": "2024-12-17T04:27:16.5559Z",
          "iopub.execute_input": "2024-12-17T04:27:16.556544Z",
          "iopub.status.idle": "2024-12-17T04:46:55.876595Z",
          "shell.execute_reply.started": "2024-12-17T04:27:16.556503Z",
          "shell.execute_reply": "2024-12-17T04:46:55.875776Z"
        },
        "id": "P2GSeFIHqW8C"
      },
      "outputs": [],
      "execution_count": null
    },
    {
      "cell_type": "code",
      "source": [
        "# Define needed variables\n",
        "tr_acc = history.history['accuracy']\n",
        "tr_loss = history.history['loss']\n",
        "val_acc = history.history['val_accuracy']\n",
        "val_loss = history.history['val_loss']\n",
        "index_loss = np.argmin(val_loss)\n",
        "val_lowest = val_loss[index_loss]\n",
        "index_acc = np.argmax(val_acc)\n",
        "acc_highest = val_acc[index_acc]\n",
        "\n",
        "Epochs = [i+1 for i in range(len(tr_acc))]\n",
        "loss_label = f'best epoch= {str(index_loss + 1)}'\n",
        "acc_label = f'best epoch= {str(index_acc + 1)}'"
      ],
      "metadata": {
        "trusted": true,
        "execution": {
          "iopub.status.busy": "2024-12-17T04:46:55.877903Z",
          "iopub.execute_input": "2024-12-17T04:46:55.878189Z",
          "iopub.status.idle": "2024-12-17T04:46:55.883914Z",
          "shell.execute_reply.started": "2024-12-17T04:46:55.87816Z",
          "shell.execute_reply": "2024-12-17T04:46:55.883038Z"
        },
        "id": "sWNCr3esqW8C"
      },
      "outputs": [],
      "execution_count": null
    },
    {
      "cell_type": "code",
      "source": [
        "# Plot training history\n",
        "plt.figure(figsize= (20, 8))\n",
        "plt.style.use('fivethirtyeight')\n",
        "\n",
        "plt.subplot(1, 2, 1)\n",
        "plt.plot(Epochs, tr_loss, 'r', label= 'Training loss')\n",
        "plt.plot(Epochs, val_loss, 'g', label= 'Validation loss')\n",
        "plt.scatter(index_loss + 1, val_lowest, s= 150, c= 'blue', label= loss_label)\n",
        "plt.title('Training and Validation Loss')\n",
        "plt.xlabel('Epochs')\n",
        "plt.ylabel('Loss')\n",
        "plt.legend()\n",
        "\n",
        "plt.subplot(1, 2, 2)\n",
        "plt.plot(Epochs, tr_acc, 'r', label= 'Training Accuracy')\n",
        "plt.plot(Epochs, val_acc, 'g', label= 'Validation Accuracy')\n",
        "plt.scatter(index_acc + 1 , acc_highest, s= 150, c= 'blue', label= acc_label)\n",
        "plt.title('Training and Validation Accuracy')\n",
        "plt.xlabel('Epochs')\n",
        "plt.ylabel('Accuracy')\n",
        "plt.legend()\n",
        "\n",
        "plt.tight_layout\n",
        "plt.show()"
      ],
      "metadata": {
        "trusted": true,
        "execution": {
          "iopub.status.busy": "2024-12-17T04:46:55.88513Z",
          "iopub.execute_input": "2024-12-17T04:46:55.885392Z",
          "iopub.status.idle": "2024-12-17T04:46:56.527825Z",
          "shell.execute_reply.started": "2024-12-17T04:46:55.885367Z",
          "shell.execute_reply": "2024-12-17T04:46:56.526863Z"
        },
        "id": "Mxgjn9vDqW8C"
      },
      "outputs": [],
      "execution_count": null
    },
    {
      "cell_type": "markdown",
      "source": [
        "The training history of a deep learning model by plotting training and validation loss and accuracy over epochs. It uses a side-by-side subplot layout to display two graphs: one for loss and the other for accuracy. Key points like the lowest validation loss and the highest validation accuracy are highlighted with blue scatter points for better interpretation. This helps analyze model performance and identify potential overfitting or underfitting."
      ],
      "metadata": {
        "id": "GxqvZqHxqW8C"
      }
    },
    {
      "cell_type": "markdown",
      "source": [
        "****Evaluate the CNN model****\n",
        "\n",
        "the trained model's performance on the training, validation, and test datasets using their respective data generators (train_gen, valid_gen, test_gen). It calculates the loss and accuracy for each dataset and prints the results for comparison. This helps assess how well the model has learned (train performance), how it generalizes to unseen validation data, and its performance on the test set for final evaluation."
      ],
      "metadata": {
        "id": "coLwySL0qW8C"
      }
    },
    {
      "cell_type": "code",
      "source": [
        "train_score = model.evaluate(train_gen, verbose= 1)\n",
        "valid_score = model.evaluate(valid_gen, verbose= 1)\n",
        "test_score = model.evaluate(test_gen, verbose= 1)\n",
        "\n",
        "print(\"Train Loss: \", train_score[0])\n",
        "print(\"Train Accuracy: \", train_score[1])\n",
        "print('-' * 20)\n",
        "print(\"Validation Loss: \", valid_score[0])\n",
        "print(\"Validation Accuracy: \", valid_score[1])\n",
        "print('-' * 20)\n",
        "print(\"Test Loss: \", test_score[0])\n",
        "print(\"Test Accuracy: \", test_score[1])"
      ],
      "metadata": {
        "trusted": true,
        "execution": {
          "iopub.status.busy": "2024-12-17T04:46:56.528986Z",
          "iopub.execute_input": "2024-12-17T04:46:56.529261Z",
          "iopub.status.idle": "2024-12-17T04:47:20.27885Z",
          "shell.execute_reply.started": "2024-12-17T04:46:56.529233Z",
          "shell.execute_reply": "2024-12-17T04:47:20.278007Z"
        },
        "id": "e8UpVh3WqW8D"
      },
      "outputs": [],
      "execution_count": null
    },
    {
      "cell_type": "code",
      "source": [
        "preds = model.predict(test_gen)\n",
        "y_pred = np.argmax(preds, axis=1)"
      ],
      "metadata": {
        "trusted": true,
        "execution": {
          "iopub.status.busy": "2024-12-17T04:47:20.280165Z",
          "iopub.execute_input": "2024-12-17T04:47:20.28046Z",
          "iopub.status.idle": "2024-12-17T04:47:22.421128Z",
          "shell.execute_reply.started": "2024-12-17T04:47:20.280417Z",
          "shell.execute_reply": "2024-12-17T04:47:22.420152Z"
        },
        "id": "fUEe2pveqW8D"
      },
      "outputs": [],
      "execution_count": null
    },
    {
      "cell_type": "code",
      "source": [
        "g_dict = test_gen.class_indices\n",
        "classes = list(g_dict.keys())\n",
        "\n",
        "# Confusion matrix\n",
        "cm = confusion_matrix(test_gen.classes, y_pred)\n",
        "cm\n",
        "\n"
      ],
      "metadata": {
        "trusted": true,
        "execution": {
          "iopub.status.busy": "2024-12-17T04:47:22.424479Z",
          "iopub.execute_input": "2024-12-17T04:47:22.425203Z",
          "iopub.status.idle": "2024-12-17T04:47:22.432568Z",
          "shell.execute_reply.started": "2024-12-17T04:47:22.42516Z",
          "shell.execute_reply": "2024-12-17T04:47:22.431874Z"
        },
        "id": "aLGlohEhqW8D"
      },
      "outputs": [],
      "execution_count": null
    },
    {
      "cell_type": "code",
      "source": [
        "print(classification_report(test_gen.classes, y_pred,\n",
        "                            target_names= classes))"
      ],
      "metadata": {
        "trusted": true,
        "execution": {
          "iopub.status.busy": "2024-12-17T04:47:22.433507Z",
          "iopub.execute_input": "2024-12-17T04:47:22.43376Z",
          "iopub.status.idle": "2024-12-17T04:47:22.450954Z",
          "shell.execute_reply.started": "2024-12-17T04:47:22.433734Z",
          "shell.execute_reply": "2024-12-17T04:47:22.450143Z"
        },
        "id": "BDyspeJxqW8E"
      },
      "outputs": [],
      "execution_count": null
    },
    {
      "cell_type": "markdown",
      "source": [
        "The model achieves an overall accuracy of 46% on the test data. For the Benign class, the precision is 0.48 with a recall of 0.80, indicating the model is better at identifying benign cases but lacks precision. For the Malignant class, the precision is 0.37 with a low recall of 0.12, meaning the model struggles to detect malignant cases. The weighted average F1-score of 0.39 highlights the model's limited performance, especially in handling class imbalance or distinguishing malignant samples effectively."
      ],
      "metadata": {
        "id": "mqw99Aa_qW8E"
      }
    },
    {
      "cell_type": "markdown",
      "source": [
        "****Fine tuning using VGG16****\n",
        "\n",
        "a transfer learning model using the VGG16 architecture pre-trained on the ImageNet dataset. The base model excludes its top layers (include_top=False) and uses average pooling to extract features, with its weights frozen to prevent retraining. A custom fully connected head with Batch Normalization, dense layers (512, 256, 128 neurons), and Dropout is added for classification. The model is compiled with the Adamax optimizer, a learning rate of 0.0001, and uses categorical cross-entropy for multi-class classification."
      ],
      "metadata": {
        "id": "OW9G5hzMqW8E"
      }
    },
    {
      "cell_type": "code",
      "source": [
        "channels = 3\n",
        "image_size = (224,224)\n",
        "image_shape =(image_size[0], image_size[1], channels)\n",
        "class_count = len(list(train_gen.class_indices.keys()))\n",
        "\n",
        "model_base= keras.applications.VGG16(\n",
        "    include_top = False,\n",
        "    weights= \"imagenet\",\n",
        "    input_shape= image_shape,\n",
        "    pooling = 'avg'\n",
        ")\n",
        "\n",
        "model_base.trainable = False\n",
        "\n",
        "model2 = Sequential([\n",
        "    model_base,\n",
        "    BatchNormalization(),\n",
        "\n",
        "    Dense(512, activation=\"relu\"),\n",
        "    Dense(256, activation=\"relu\"),\n",
        "    Dense(128, activation=\"relu\"),\n",
        "    Dropout(rate=0.3, seed=123),\n",
        "    Dense(class_count, activation=\"softmax\")\n",
        "])\n",
        "\n",
        "model2.compile(optimizer=Adamax(learning_rate=0.0001), loss='categorical_crossentropy',\n",
        "              metrics=['accuracy'])\n",
        "\n",
        "model2.build(input_shape=(None, *image_shape))\n",
        "model2.summary()"
      ],
      "metadata": {
        "trusted": true,
        "execution": {
          "iopub.status.busy": "2024-12-17T04:47:22.45194Z",
          "iopub.execute_input": "2024-12-17T04:47:22.45227Z",
          "iopub.status.idle": "2024-12-17T04:47:24.962317Z",
          "shell.execute_reply.started": "2024-12-17T04:47:22.452232Z",
          "shell.execute_reply": "2024-12-17T04:47:24.961509Z"
        },
        "id": "kMwfTB4YqW8E"
      },
      "outputs": [],
      "execution_count": null
    },
    {
      "cell_type": "code",
      "source": [
        "from tensorflow.keras.callbacks import EarlyStopping\n",
        "\n",
        "early_stopping = EarlyStopping(monitor='val_loss', patience=10, restore_best_weights=True)\n",
        "history = model2.fit(train_gen, epochs= 30, verbose= 1,\n",
        "                    validation_data = valid_gen, shuffle= True)"
      ],
      "metadata": {
        "trusted": true,
        "execution": {
          "iopub.status.busy": "2024-12-17T04:50:46.42373Z",
          "iopub.execute_input": "2024-12-17T04:50:46.424125Z",
          "iopub.status.idle": "2024-12-17T05:09:09.471062Z",
          "shell.execute_reply.started": "2024-12-17T04:50:46.424093Z",
          "shell.execute_reply": "2024-12-17T05:09:09.470322Z"
        },
        "id": "28UOFYMXqW8E"
      },
      "outputs": [],
      "execution_count": null
    },
    {
      "cell_type": "code",
      "source": [
        "tr_acc = history.history['accuracy']\n",
        "tr_loss = history.history['loss']\n",
        "val_acc = history.history['val_accuracy']\n",
        "val_loss = history.history['val_loss']\n",
        "index_loss = np.argmin(val_loss)\n",
        "val_lowest = val_loss[index_loss]\n",
        "index_acc = np.argmax(val_acc)\n",
        "acc_highest = val_acc[index_acc]\n",
        "\n",
        "Epochs = [i+1 for i in range(len(tr_acc))]\n",
        "loss_label = f'best epoch= {str(index_loss + 1)}'\n",
        "acc_label = f'best epoch= {str(index_acc + 1)}'\n",
        "\n",
        "# Plot training history\n",
        "plt.figure(figsize= (20, 8))\n",
        "plt.style.use('fivethirtyeight')\n",
        "\n",
        "plt.subplot(1, 2, 1)\n",
        "plt.plot(Epochs, tr_loss, 'r', label= 'Training loss')\n",
        "plt.plot(Epochs, val_loss, 'g', label= 'Validation loss')\n",
        "plt.scatter(index_loss + 1, val_lowest, s= 150, c= 'blue', label= loss_label)\n",
        "plt.title('Training and Validation Loss')\n",
        "plt.xlabel('Epochs')\n",
        "plt.ylabel('Loss')\n",
        "plt.legend()\n",
        "\n",
        "plt.subplot(1, 2, 2)\n",
        "plt.plot(Epochs, tr_acc, 'r', label= 'Training Accuracy')\n",
        "plt.plot(Epochs, val_acc, 'g', label= 'Validation Accuracy')\n",
        "plt.scatter(index_acc + 1 , acc_highest, s= 150, c= 'blue', label= acc_label)\n",
        "plt.title('Training and Validation Accuracy')\n",
        "plt.xlabel('Epochs')\n",
        "plt.ylabel('Accuracy')\n",
        "plt.legend()\n",
        "\n",
        "plt.tight_layout\n",
        "plt.show()\n"
      ],
      "metadata": {
        "trusted": true,
        "execution": {
          "iopub.status.busy": "2024-12-17T05:13:23.298396Z",
          "iopub.execute_input": "2024-12-17T05:13:23.299322Z",
          "iopub.status.idle": "2024-12-17T05:13:23.967684Z",
          "shell.execute_reply.started": "2024-12-17T05:13:23.299272Z",
          "shell.execute_reply": "2024-12-17T05:13:23.966831Z"
        },
        "id": "iUQvEVY8qW8F"
      },
      "outputs": [],
      "execution_count": null
    },
    {
      "cell_type": "markdown",
      "source": [
        "the training and validation loss, as well as accuracy, over epochs to visualize the model's performance during training. It highlights the epochs with the lowest validation loss and the highest validation accuracy using blue markers. The training and validation curves are displayed side by side to compare the model's learning and generalization behavior. This helps identify overfitting or underfitting and track the model's progress throughout the training process.\n",
        "\n",
        "\n",
        "\n",
        "\n",
        "\n",
        "\n"
      ],
      "metadata": {
        "id": "Is2hhsWwqW8F"
      }
    },
    {
      "cell_type": "code",
      "source": [
        "train_score = model2.evaluate(train_gen, verbose= 1)\n",
        "valid_score = model2.evaluate(valid_gen, verbose= 1)\n",
        "test_score = model2.evaluate(test_gen, verbose= 1)\n",
        "\n",
        "print(\"Train Loss: \", train_score[0])\n",
        "print(\"Train Accuracy: \", train_score[1])\n",
        "print('-' * 20)\n",
        "print(\"Validation Loss: \", valid_score[0])\n",
        "print(\"Validation Accuracy: \", valid_score[1])\n",
        "print('-' * 20)\n",
        "print(\"Test Loss: \", test_score[0])\n",
        "print(\"Test Accuracy: \", test_score[1])"
      ],
      "metadata": {
        "trusted": true,
        "execution": {
          "iopub.status.busy": "2024-12-17T05:14:08.08569Z",
          "iopub.execute_input": "2024-12-17T05:14:08.086386Z",
          "iopub.status.idle": "2024-12-17T05:14:47.503661Z",
          "shell.execute_reply.started": "2024-12-17T05:14:08.086351Z",
          "shell.execute_reply": "2024-12-17T05:14:47.502817Z"
        },
        "id": "LVPov8CoqW8F"
      },
      "outputs": [],
      "execution_count": null
    }
  ]
}